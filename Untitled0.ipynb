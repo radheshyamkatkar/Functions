{
  "nbformat": 4,
  "nbformat_minor": 0,
  "metadata": {
    "colab": {
      "provenance": []
    },
    "kernelspec": {
      "name": "python3",
      "display_name": "Python 3"
    },
    "language_info": {
      "name": "python"
    }
  },
  "cells": [
    {
      "cell_type": "markdown",
      "source": [
        "#Function"
      ],
      "metadata": {
        "id": "EDOOs9FGLPJ8"
      }
    },
    {
      "cell_type": "markdown",
      "source": [
        "1. What is Python, and why is it popular?\n",
        "\n",
        "  -> Python is a high‑level, interpreted programming language known for its clear syntax and readability. It’s popular because it has a huge standard library and strong community support, and it’s used in many domains (web, data science, automation, AI, etc.).\n",
        "\n",
        "2. What is an interpreter in Python?\n",
        "  \n",
        "  -> The interpreter is the program that reads your Python source code, compiles it to bytecode, and then executes that bytecode on a virtual machine. It lets you run code interactively and makes Python write and run rather than compile then run.\n",
        "\n",
        "3. What are pre‑defined keywords in Python?\n",
        "  \n",
        "  -> Keywords are reserved words that have special meaning in the language syntax (e.g. if, for, while, def, class, import, return, and, or, not, True, False, None, etc.). You can see the full list with import keyword; print(keyword.kwlist).\n",
        "\n",
        "4. Can keywords be used as variable names?\n",
        "  \n",
        "  ->No. Keywords are part of the language grammar and cannot be redefined or used as identifiers (variable, function, or class names).\n",
        "\n",
        "5. What is mutability in Python?\n",
        "  \n",
        "  -> Mutability refers to whether an object’s state can be changed after it’s created. Mutable objects (like lists or dictionaries) can be altered in place; immutable objects (like integers, strings, or tuples) cannot.\n",
        "\n",
        "6. Why are lists mutable, but tuples are immutable?\n",
        "  \n",
        "  -> Lists are designed for dynamic collections—you can add, remove, or change items—so they’re mutable. Tuples are fixed‑size, lightweight sequences intended for heterogeneous or constant data; immutability makes them hashable (usable as dict keys) and safer in contexts where you don’t want inadvertent modification.\n",
        "\n",
        "7. What is the difference between \"==\" and \"is\" operators in Python?\n",
        "\n",
        "  -> \"==\" checks for value equality (do the two objects have the same contents?).\n",
        "\n",
        "  \"is\" checks for identity (are they the exact same object in memory?).\n",
        "\n",
        "8. What are logical operators in Python?\n",
        "Python has three logical operators:\n",
        "\n",
        "  -> and returns True if both operands are true,\n",
        "\n",
        "  or returns True if at least one operand is true,\n",
        "\n",
        "  not nullify a boolean value it means  flips true to false or false to true\n",
        "\n",
        "9. What is type casting in Python?\n",
        "  \n",
        "  -> Type casting (or conversion) is the process of converting a value from one data type to another, e.g. using int(), float(), str(), or bool().\n",
        "\n",
        "10. What is the difference between implicit and explicit type casting?\n",
        "\n",
        "  -> Implicit casting is done automatically by Python when it’s safe (e.g. mixing an int and a float yields a float).\n",
        "\n",
        "  Explicit casting is when you manually convert types using constructor functions (int(\"123\"), str(3.14), etc.).\n",
        "\n",
        "11. What is the purpose of conditional statements in Python?\n",
        "  \n",
        "  -> Conditional statements (if/elif/else) let your program execute different blocks of code based on whether given expressions evaluate to True or False.\n",
        "\n",
        "12. How does the elif statement work?\n",
        "  \n",
        "  -> elif (“else if”) provides additional conditions after an initial if. Python evaluates them in order and runs the first block whose condition is true, then skips the rest.\n",
        "\n",
        "13. What is the difference between for and while loops?\n",
        "\n",
        "  -> A for loop iterates over a sequence (like a list, tuple, string, or range) a definite number of times.\n",
        "\n",
        "  A while loop repeats as long as a condition remains true, which may be indefinite until that condition changes.\n",
        "\n",
        "14. Describe a scenario where a while loop is more suitable than a for loop.\n",
        "  \n",
        "  -> When you don’t know in advance how many iterations you need—for example, reading user input until they type “quit,” or continuing to poll a sensor until it reaches a threshold—a while loop (driven by a condition) is the natural choice.\n",
        "\n",
        "\n",
        "\n",
        "\n"
      ],
      "metadata": {
        "id": "UFbN-6abLMGX"
      }
    },
    {
      "cell_type": "code",
      "source": [
        "\n",
        "# 1. Write a Python program to print \"Hello, World!\"\n",
        "print(\"Hello, World!\")\n",
        "\n"
      ],
      "metadata": {
        "colab": {
          "base_uri": "https://localhost:8080/"
        },
        "id": "eWUHbXwIQDGO",
        "outputId": "807304d9-7915-44fb-d4f4-3c6efc7afbb2"
      },
      "execution_count": 3,
      "outputs": [
        {
          "output_type": "stream",
          "name": "stdout",
          "text": [
            "Hello, World!\n"
          ]
        }
      ]
    },
    {
      "cell_type": "code",
      "execution_count": null,
      "metadata": {
        "id": "EH89_53jK7Yf"
      },
      "outputs": [],
      "source": [
        "# 2. Write a Python program that displays your name and age.\n",
        "name = \"Alice\"\n",
        "age = 25\n",
        "print(\"My name is\", name, \"and I am\", age, \"years old.\")\n"
      ]
    },
    {
      "cell_type": "code",
      "source": [
        "# 3. Write code to print all the pre-defined keywords in Python using the keyword library.\n",
        "import keyword\n",
        "print(keyword.kwlist)\n"
      ],
      "metadata": {
        "id": "gJ0TZ8GUSdbW"
      },
      "execution_count": null,
      "outputs": []
    },
    {
      "cell_type": "code",
      "source": [
        "# 4. Write a program that checks if a given word is a Python keyword.\n",
        "import keyword\n",
        "word = input(\"Enter a word: \")\n",
        "if keyword.iskeyword(word):\n",
        "    print(word, \"is a Python keyword.\")\n",
        "else:\n",
        "    print(word, \"is not a Python keyword.\")\n"
      ],
      "metadata": {
        "id": "cl-4B6HPSgGQ"
      },
      "execution_count": null,
      "outputs": []
    },
    {
      "cell_type": "code",
      "source": [
        "# 5. Create a list and tuple in Python, and show how changing an element works differently for each.\n",
        "my_list = [1, 2, 3]\n",
        "my_tuple = (1, 2, 3)\n",
        "\n",
        "my_list[0] = 10\n",
        "print(\"Modified list:\", my_list)\n",
        "\n",
        "try:\n",
        "    my_tuple[0] = 10\n",
        "except TypeError:\n",
        "    print(\"You can't modify a tuple.\")\n"
      ],
      "metadata": {
        "id": "5LA431ExSjEK"
      },
      "execution_count": null,
      "outputs": []
    },
    {
      "cell_type": "code",
      "source": [
        "# 6. Write a function to show the behavior of mutable and immutable arguments.\n",
        "def change_list(lst):\n",
        "    lst.append(4)\n",
        "\n",
        "def change_number(n):\n",
        "    n = n + 1\n",
        "    return n\n",
        "\n",
        "numbers = [1, 2, 3]\n",
        "value = 10\n",
        "\n",
        "change_list(numbers)\n",
        "value = change_number(value)\n",
        "\n",
        "print(\"List:\", numbers)\n",
        "print(\"Number:\", value)\n"
      ],
      "metadata": {
        "id": "mIG_DtneSkK_"
      },
      "execution_count": null,
      "outputs": []
    },
    {
      "cell_type": "code",
      "source": [
        "# 7. Write a program that does basic arithmetic on two user numbers.\n",
        "a = float(input(\"Enter first number: \"))\n",
        "b = float(input(\"Enter second number: \"))\n",
        "print(\"Sum:\", a + b)\n",
        "print(\"Difference:\", a - b)\n",
        "print(\"Product:\", a * b)\n",
        "print(\"Quotient:\", a / b)\n"
      ],
      "metadata": {
        "id": "qRXJI6-fSnzX"
      },
      "execution_count": null,
      "outputs": []
    },
    {
      "cell_type": "code",
      "source": [
        "# 8. Write a program to show the use of logical operators.\n",
        "x = 5\n",
        "y = 10\n",
        "print(x > 2 and y < 20)\n",
        "print(x < 2 or y > 5)\n",
        "print(not x == y)\n"
      ],
      "metadata": {
        "id": "lCstNGvSSquW"
      },
      "execution_count": null,
      "outputs": []
    },
    {
      "cell_type": "code",
      "source": [
        "# 9. Write a Python program to convert user input to int, float, and bool.\n",
        "value = input(\"Enter something: \")\n",
        "print(\"As integer:\", int(value))\n",
        "print(\"As float:\", float(value))\n",
        "print(\"As boolean:\", bool(value))\n"
      ],
      "metadata": {
        "id": "JfPsSLs0Sw7k"
      },
      "execution_count": null,
      "outputs": []
    },
    {
      "cell_type": "code",
      "source": [
        "# 10. Write code to show type casting with list elements.\n",
        "str_numbers = [\"1\", \"2\", \"3\"]\n",
        "int_numbers = [int(i) for i in str_numbers]\n",
        "print(int_numbers)\n"
      ],
      "metadata": {
        "id": "oHCWkosgSzd5"
      },
      "execution_count": null,
      "outputs": []
    },
    {
      "cell_type": "code",
      "source": [
        "# 11. Write a program that checks if a number is positive, negative, or zero.\n",
        "num = float(input(\"Enter a number: \"))\n",
        "if num > 0:\n",
        "    print(\"Positive\")\n",
        "elif num < 0:\n",
        "    print(\"Negative\")\n",
        "else:\n",
        "    print(\"Zero\")\n"
      ],
      "metadata": {
        "id": "5KBKTh0_S1XB"
      },
      "execution_count": null,
      "outputs": []
    },
    {
      "cell_type": "code",
      "source": [
        "# 12. Write a for loop to print numbers from 1 to 10.\n",
        "for i in range(1, 11):\n",
        "    print(i)\n"
      ],
      "metadata": {
        "id": "Qj0wQ8JiS3Ek"
      },
      "execution_count": null,
      "outputs": []
    },
    {
      "cell_type": "code",
      "source": [
        "# 13. Write a program to find the sum of all even numbers between 1 and 50.\n",
        "total = 0\n",
        "for i in range(2, 51, 2):\n",
        "    total += i\n",
        "print(\"Sum of even numbers:\", total)\n"
      ],
      "metadata": {
        "id": "NTzHsYjXS4Vq"
      },
      "execution_count": null,
      "outputs": []
    },
    {
      "cell_type": "code",
      "source": [
        "# 14. Write a program to reverse a string using a while loop.\n",
        "text = input(\"Enter a string: \")\n",
        "reverse = \"\"\n",
        "i = len(text) - 1\n",
        "while i >= 0:\n",
        "    reverse += text[i]\n",
        "    i -= 1\n",
        "print(\"Reversed string:\", reverse)\n"
      ],
      "metadata": {
        "id": "vNVKaFGiS5RB"
      },
      "execution_count": null,
      "outputs": []
    },
    {
      "cell_type": "code",
      "source": [
        "# 15. Write a program to find the factorial of a number using a while loop.\n",
        "num = int(input(\"Enter a number: \"))\n",
        "result = 1\n",
        "i = 1\n",
        "while i <= num:\n",
        "    result *= i\n",
        "    i += 1\n",
        "print(\"Factorial is\", result)\n"
      ],
      "metadata": {
        "id": "A7SO-eTES88y"
      },
      "execution_count": null,
      "outputs": []
    }
  ]
}